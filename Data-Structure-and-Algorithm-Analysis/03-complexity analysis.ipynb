{
 "cells": [
  {
   "cell_type": "markdown",
   "metadata": {},
   "source": [
    "说明：代码都是无法运行的，只是为了说明使用的"
   ]
  },
  {
   "cell_type": "markdown",
   "metadata": {},
   "source": [
    "# 03 | 复杂度分析（上）：如何分析、统计算法的执行效率和资源消耗？"
   ]
  },
  {
   "cell_type": "markdown",
   "metadata": {},
   "source": [
    "数据结构和算法本身解决的是“快”和“省”的问题，即如何让代码运行得更快，如何让代码更省存储空间。所以，执行效率是算法一个非常重要的考量指标。那如何来衡量你编写的算法代码的执行效率呢？ -- 时间和空间复杂度"
   ]
  },
  {
   "cell_type": "markdown",
   "metadata": {},
   "source": [
    "**复杂度分析是整个算法学习的精髓，只要掌握了它，数据结构和算法的内容基本上就掌握了一半**"
   ]
  },
  {
   "cell_type": "markdown",
   "metadata": {},
   "source": [
    "## 为什么需要复杂度分析？"
   ]
  },
  {
   "cell_type": "markdown",
   "metadata": {},
   "source": [
    "事后统计法:写好程序后运行通过统计、监控，就能得到算法执行的时间和占用的内存大小\n",
    "局限性：\n",
    "- 测试结果非常依赖测试环境\n",
    "不同的硬件对测试结果影响很大\n",
    "- 测试结果受数据规模的影响很大\n",
    "比如排序算法，。对同一个排序算法，待排序数据的有序度不一样，排序的执行时间就会有很大的差别。极端情况下，如果数据已经是有序的，那排序算法不需要做任何操作，执行时间就会非常短。除此之外，如果测试数据规模太小，测试结果可能无法真实地反应算法的性能。\n",
    "\n",
    "这就需要一个不用具体代码实现、不用具体数据来测试，就可以粗略估计算法的执行效率。"
   ]
  },
  {
   "cell_type": "markdown",
   "metadata": {},
   "source": [
    "## 大 O 复杂度表示法"
   ]
  },
  {
   "cell_type": "markdown",
   "metadata": {},
   "source": [
    "算法的执行效率粗略来讲就是算法执行的时间，如何在不运行代码的情况下，用“肉眼”得到一段代码的执行时间呢？"
   ]
  },
  {
   "cell_type": "markdown",
   "metadata": {},
   "source": [
    "int cal(int n) {\n",
    "   int sum = 0;\n",
    "   int i = 1;\n",
    "   for (; i <= n; ++i) {\n",
    "     sum = sum + i;\n",
    "   }\n",
    "   return sum;\n",
    " }"
   ]
  },
  {
   "cell_type": "markdown",
   "metadata": {},
   "source": [
    "> 从 CPU 的角度来看，这段代码的每一行都执行着类似的操作：**读数据-运算-写数据。**\n",
    "\n",
    "> 可以假设每行代码执行的时间都一样，为 unit_time。在这个假设的基础之上，这段代码的总执行时间是多少呢？\n",
    "第 2、3 行代码分别需要 1 个 unit_time 的执行时间，第 4、5 行都运行了 n 遍，所以需要 2n*unit_time 的执行时间，所以这段代码总的执行时间就是 (2n+2)*unit_time。可以看出来，**所有代码的执行时间 T(n) 与每行代码的执行次数成正比。**"
   ]
  },
  {
   "cell_type": "code",
   "execution_count": null,
   "metadata": {},
   "outputs": [],
   "source": [
    " int cal(int n) {\n",
    "   int sum = 0;\n",
    "   int i = 1;\n",
    "   int j = 1;\n",
    "   for (; i <= n; ++i) {\n",
    "     j = 1;\n",
    "     for (; j <= n; ++j) {\n",
    "       sum = sum +  i * j;\n",
    "     }\n",
    "   }\n",
    " }"
   ]
  },
  {
   "cell_type": "markdown",
   "metadata": {},
   "source": [
    "> 第 2、3、4 行代码，每行都需要 1 个 unit_time 的执行时间，第 5、6 行代码循环执行了 n 遍，需要 2n * unit_time 的执行时间，第 7、8 行代码循环执行了 n2遍，所以需要 2n2 * unit_time 的执行时间。所以，整段代码总的执行时间 T(n) = (2n2+2n+3)*unit_time。"
   ]
  },
  {
   "cell_type": "markdown",
   "metadata": {},
   "source": [
    "尽管我们不知道 unit_time 的具体值，但是通过这两段代码执行时间的推导过程，我们可以得到一个非常重要的规律，那就是，**所有代码的执行时间 T(n) 与每行代码的执行次数 n 成正比。**\n",
    "公式： $T(n) = O(f(n))$\n",
    "\n",
    "其中，T(n) 我们已经讲过了，它表示代码执行的时间；n 表示数据规模的大小；f(n) 表示每行代码执行的次数总和。因为这是一个公式，所以用 f(n) 来表示。公式中的 O，表示代码的执行时间 T(n) 与 f(n) 表达式成正比"
   ]
  },
  {
   "cell_type": "markdown",
   "metadata": {},
   "source": [
    "所以，第一个例子中的 T(n) = O(2n+2)，第二个例子中的 $T(n) = O(2n^2+2n+3)$"
   ]
  },
  {
   "cell_type": "markdown",
   "metadata": {},
   "source": [
    "这就是**大 O 时间复杂度表示法**。大 O 时间复杂度实际上并不具体表示代码真正的执行时间，而是**表示代码执行时间随数据规模增长的变化趋势**，所以，也叫作**渐进时间复杂度**（asymptotic time complexity），简称**时间复杂度。**"
   ]
  },
  {
   "cell_type": "markdown",
   "metadata": {},
   "source": [
    "当 n 很大时，你可以把它想象成 10000、100000。而公式中的低阶、常量、系数三部分并不左右增长趋势，所以都可以忽略。我们只需要记录一个最大量级就可以了，如果用大 O 表示法表示刚讲的那两段代码的时间复杂度，就可以记为：T(n) = O(n)； $T(n) = O(n^2)。$"
   ]
  },
  {
   "cell_type": "markdown",
   "metadata": {},
   "source": [
    "## 时间复杂度分析\n",
    "如何分析代码的时间复杂度\n",
    "- 1. 只关注循环执行次数最多的一段代码\n",
    "通常会忽略掉公式中的常量、低阶、系数，只需要记录一个最大阶的量级就可以了。**我们在分析一个算法、一段代码的时间复杂度的时候，也只关注循环执行次数最多的那一段代码就可以了。** 上面第一个例子就是可以看作 O(n) 就是如此。\n",
    "- 2. 加法法则：总复杂度等于量级最大的那段代码的复杂度\n",
    "\n",
    "`举个例子`"
   ]
  },
  {
   "cell_type": "code",
   "execution_count": null,
   "metadata": {},
   "outputs": [],
   "source": [
    "int cal(int n) {\n",
    "   int sum_1 = 0;\n",
    "   int p = 1;\n",
    "   for (; p < 100; ++p) {\n",
    "     sum_1 = sum_1 + p;\n",
    "   }\n",
    "\n",
    "   int sum_2 = 0;\n",
    "   int q = 1;\n",
    "   for (; q < n; ++q) {\n",
    "     sum_2 = sum_2 + q;\n",
    "   }\n",
    " \n",
    "   int sum_3 = 0;\n",
    "   int i = 1;\n",
    "   int j = 1;\n",
    "   for (; i <= n; ++i) {\n",
    "     j = 1; \n",
    "     for (; j <= n; ++j) {\n",
    "       sum_3 = sum_3 +  i * j;\n",
    "     }\n",
    "   }\n",
    " \n",
    "   return sum_1 + sum_2 + sum_3;\n",
    " }"
   ]
  },
  {
   "cell_type": "markdown",
   "metadata": {},
   "source": [
    "从代码可以看出，代码在 14 行以后的包含着嵌套循环，故这段代码只需要考虑这一部分的复杂度即可，即：$O(n^2)$\n",
    "\n",
    "将公式抽象化就是\n",
    "如果 T1(n)=O(f(n))，T2(n)=O(g(n))；\n",
    "那么 $T(n)=T1(n)+T2(n)=max(O(f(n)), O(g(n))) =O(max(f(n), g(n)))$"
   ]
  },
  {
   "cell_type": "markdown",
   "metadata": {},
   "source": [
    "- 3. 乘法法则：嵌套代码的复杂度等于嵌套内外代码复杂度的乘积\n",
    "\n",
    "如果 T1(n)=O(f(n))，T2(n)=O(g(n))；\n",
    "那么 $T(n)=T1(n)*T2(n)=O(f(n))*O(g(n))=O(f(n)*g(n)).$\n",
    "\n",
    "假设 T1(n) = O(n)，$T2(n) = O(n^2)$，则 $T1(n) * T2(n) = O(n^3)$"
   ]
  },
  {
   "cell_type": "markdown",
   "metadata": {},
   "source": [
    "`举个例子`：可以把乘法法则看成是嵌套循环"
   ]
  },
  {
   "cell_type": "code",
   "execution_count": null,
   "metadata": {},
   "outputs": [],
   "source": [
    "int cal(int n) {\n",
    "   int ret = 0; \n",
    "   int i = 1;\n",
    "   for (; i < n; ++i) {\n",
    "     ret = ret + f(i);\n",
    "   } \n",
    " } \n",
    " \n",
    " int f(int n) {\n",
    "  int sum = 0;\n",
    "  int i = 1;\n",
    "  for (; i < n; ++i) {\n",
    "    sum = sum + i;\n",
    "  } \n",
    "  return sum;\n",
    " }"
   ]
  },
  {
   "cell_type": "markdown",
   "metadata": {},
   "source": [
    "我们单独看 cal() 函数。假设 f() 只是一个普通的操作，那第 4～6 行的时间复杂度就是，T1(n) = O(n)。但 f() 函数本身不是一个简单的操作，它的时间复杂度是 T2(n) = O(n)，所以，整个 cal() 函数的时间复杂度就是，$T(n) = T1(n) * T2(n) = O(n*n) = O(n^2)$"
   ]
  },
  {
   "cell_type": "markdown",
   "metadata": {},
   "source": [
    "## 几种常见时间复杂度实例分析"
   ]
  },
  {
   "attachments": {},
   "cell_type": "markdown",
   "metadata": {},
   "source": [
    "![image.png](https://github.com/FLyingLSJ/learning-note/blob/master/Data-Structure-and-Algorithm-Analysis/images/%E5%A4%8D%E6%9D%82%E5%BA%A6%E5%88%86%E6%9E%901-1.png?raw=true)"
   ]
  },
  {
   "cell_type": "markdown",
   "metadata": {},
   "source": [
    "复杂度量级可以分为两类，**多项式量级和非多项式量级**。其中，非多项式量级只有两个：$O(2^n)$ 和 O(n!)。"
   ]
  },
  {
   "cell_type": "markdown",
   "metadata": {},
   "source": [
    "几种常见的多项式时间复杂度\n",
    "- 1. O(1)\n",
    "一般情况下，只要算法中不存在循环语句、递归语句，即使有成千上万行的代码，其时间复杂度也是Ο(1)。\n",
    "- 2. O(logn)、O(nlogn)\n",
    "\n"
   ]
  },
  {
   "cell_type": "code",
   "execution_count": null,
   "metadata": {},
   "outputs": [],
   "source": [
    " i=1;\n",
    " while (i <= n)  {\n",
    "   i = i * 3;\n",
    " }"
   ]
  },
  {
   "cell_type": "markdown",
   "metadata": {},
   "source": [
    "在采用大 O 标记复杂度的时候，可以忽略系数，即 O(Cf(n)) = O(f(n))"
   ]
  },
  {
   "cell_type": "markdown",
   "metadata": {},
   "source": [
    "- 3. O(m+n)、O(m*n)\n",
    "我们无法事先评估 m 和 n 谁的量级大，所以我们在表示复杂度的时候，就不能简单地利用加法法则，省略掉其中一个。所以，上面代码的时间复杂度就是 O(m+n)。"
   ]
  },
  {
   "cell_type": "code",
   "execution_count": null,
   "metadata": {},
   "outputs": [],
   "source": [
    "int cal(int m, int n) {\n",
    "  int sum_1 = 0;\n",
    "  int i = 1;\n",
    "  for (; i < m; ++i) {\n",
    "    sum_1 = sum_1 + i;\n",
    "  }\n",
    "\n",
    "  int sum_2 = 0;\n",
    "  int j = 1;\n",
    "  for (; j < n; ++j) {\n",
    "    sum_2 = sum_2 + j;\n",
    "  }\n",
    "\n",
    "  return sum_1 + sum_2;\n",
    "}"
   ]
  },
  {
   "cell_type": "markdown",
   "metadata": {},
   "source": [
    "## 空间复杂度分析\n",
    "时间复杂度的全称是**渐进时间复杂度，表示算法的执行时间与数据规模之间的增长关系**。类比一下，空间复杂度全称就是**渐进空间复杂度**（asymptotic space complexity），**表示算法的存储空间与数据规模之间的增长关系。**"
   ]
  },
  {
   "cell_type": "code",
   "execution_count": null,
   "metadata": {},
   "outputs": [],
   "source": [
    "void print(int n) {\n",
    "  int i = 0;\n",
    "  int[] a = new int[n];\n",
    "  for (i; i <n; ++i) {\n",
    "    a[i] = i * i;\n",
    "  }\n",
    "\n",
    "  for (i = n-1; i >= 0; --i) {\n",
    "    print out a[i]\n",
    "  }\n",
    "}"
   ]
  },
  {
   "cell_type": "markdown",
   "metadata": {},
   "source": [
    "跟时间复杂度分析一样，我们可以看到，第 2 行代码中，我们申请了一个空间存储变量 i，但是它是常量阶的，跟数据规模 n 没有关系，所以我们可以忽略。第 3 行申请了一个大小为 n 的 int 类型数组，除此之外，剩下的代码都没有占用更多的空间，所以整段代码的空间复杂度就是 O(n)。"
   ]
  },
  {
   "cell_type": "markdown",
   "metadata": {},
   "source": [
    "我们常见的空间复杂度就是 O(1)、O(n)、O(n2 )，像 O(logn)、O(nlogn) 这样的对数阶复杂度平时都用不到。而且，空间复杂度分析比时间复杂度分析要简单很多。所以，对于空间复杂度，掌握刚我说的这些内容已经足够了。"
   ]
  },
  {
   "cell_type": "markdown",
   "metadata": {},
   "source": [
    "## 总结\n",
    "复杂度也叫渐进复杂度，包括时间复杂度和空间复杂度，用来分析算法执行效率与数据规模之间的增长关系，可以粗略地表示，越高阶复杂度的算法，执行效率越低。常见的复杂度并不多，从低阶到高阶有：O(1)、O(logn)、O(n)、O(nlogn)、O(n2 )。"
   ]
  },
  {
   "attachments": {},
   "cell_type": "markdown",
   "metadata": {},
   "source": [
    "![image.png](https://github.com/FLyingLSJ/learning-note/blob/master/Data-Structure-and-Algorithm-Analysis/images/%E5%A4%8D%E6%9D%82%E5%BA%A6%E5%88%86%E6%9E%901-2.png?raw=true)"
   ]
  },
  {
   "cell_type": "markdown",
   "metadata": {},
   "source": [
    "## 课后思考\n",
    "有人说，我们项目之前都会进行性能测试，再做代码的时间复杂度、空间复杂度分析，是不是多此一举呢？而且，每段代码都分析一下时间复杂度、空间复杂度，是不是很浪费时间呢？你怎么看待这个问题呢？\n",
    "> 渐进时间，空间复杂度分析为我们提供了一个很好的理论分析的方向，并且它是宿主平台无关的，能够让我们对我们的程序或算法有一个大致的认识，让我们知道，比如在最坏的情况下程序的执行效率如何，同时也为我们交流提供了一个不错的桥梁，我们可以说，算法1的时间复杂度是O(n)，算法2的时间复杂度是O(logN)，这样我们立刻就对不同的算法有了一个“效率”上的感性认识。\n",
    "\n",
    "> 当然，渐进式时间，空间复杂度分析只是一个理论模型，只能提供给粗略的估计分析，我们不能直接断定就觉得O(logN)的算法一定优于O(n), 针对不同的宿主环境，不同的数据集，不同的数据量的大小，在实际应用上面可能真正的性能会不同，个人觉得，针对不同的实际情况，进而进行一定的性能基准测试是很有必要的，比如在统一一批手机上(同样的硬件，系统等等)进行横向基准测试，进而选择适合特定应用场景下的最有算法。\n",
    "\n",
    "> 渐进式时间，空间复杂度分析与性能基准测试并不冲突，而是相辅相成"
   ]
  },
  {
   "cell_type": "code",
   "execution_count": null,
   "metadata": {},
   "outputs": [],
   "source": []
  }
 ],
 "metadata": {
  "kernelspec": {
   "display_name": "Python 3",
   "language": "python",
   "name": "python3"
  },
  "language_info": {
   "codemirror_mode": {
    "name": "ipython",
    "version": 3
   },
   "file_extension": ".py",
   "mimetype": "text/x-python",
   "name": "python",
   "nbconvert_exporter": "python",
   "pygments_lexer": "ipython3",
   "version": "3.6.6"
  }
 },
 "nbformat": 4,
 "nbformat_minor": 2
}
