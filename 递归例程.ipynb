{
 "cells": [
  {
   "cell_type": "markdown",
   "metadata": {},
   "source": [
    "# 递归"
   ]
  },
  {
   "cell_type": "markdown",
   "metadata": {},
   "source": [
    "## 递归使用的条件\n",
    "1.一个问题可以分解多个子问题\n",
    "2.该问题与子问题，除了数据规模不一样，求解思路完全一样\n",
    "3.存在递归终止的条件"
   ]
  },
  {
   "cell_type": "code",
   "execution_count": 23,
   "metadata": {},
   "outputs": [],
   "source": [
    "# 走阶梯的方法：每一次可以走 1 步或者 2 步，计算走 n 步有几种方法\n",
    "def climb(n):\n",
    "    print(n)\n",
    "    if n == 1:\n",
    "        return 1\n",
    "    if n == 2:\n",
    "        return 2\n",
    "    return climb(n-1) + climb(n-2)\n"
   ]
  },
  {
   "cell_type": "markdown",
   "metadata": {},
   "source": [
    "递归调用数据规模很大时，会出现堆栈溢出，解决方法是：设置递归调用的最大深度"
   ]
  },
  {
   "cell_type": "markdown",
   "metadata": {},
   "source": [
    "### 设置最大递归的深度"
   ]
  },
  {
   "cell_type": "code",
   "execution_count": 24,
   "metadata": {},
   "outputs": [],
   "source": [
    "depth = 0 #全局变量，设置初始化递归深度\n",
    "\n",
    "def climb2(n):\n",
    "    global depth\n",
    "    depth += 1\n",
    "    if depth > 1000:\n",
    "        print('Over the depth')\n",
    "    if n == 1:\n",
    "        return 1\n",
    "    if n == 2:\n",
    "        return 2\n",
    "    return climb2(n-1) + climb2(n-2)\n",
    "        "
   ]
  },
  {
   "cell_type": "markdown",
   "metadata": {},
   "source": [
    "避免重复运算"
   ]
  },
  {
   "cell_type": "code",
   "execution_count": null,
   "metadata": {},
   "outputs": [],
   "source": []
  },
  {
   "cell_type": "code",
   "execution_count": 14,
   "metadata": {},
   "outputs": [
    {
     "name": "stdout",
     "output_type": "stream",
     "text": [
      "cost:0.007002115249633789\n"
     ]
    }
   ],
   "source": [
    "# Fibonacci 序列\n",
    "import time\n",
    "def fibonacci(n):\n",
    "    if n == 1:\n",
    "        return 1\n",
    "    if n == 0:\n",
    "        return 1\n",
    "    return fibonacci(n-1) + fibonacci(n-2)\n",
    "start = time.time()\n",
    "[fibonacci(n) for n in range(20)]\n",
    "end = time.time()\n",
    "print('cost:{}'.format(end-start))\n",
    "# 存在重复计算的问题"
   ]
  },
  {
   "cell_type": "code",
   "execution_count": 15,
   "metadata": {},
   "outputs": [
    {
     "name": "stdout",
     "output_type": "stream",
     "text": [
      "cost:0.011006355285644531\n"
     ]
    }
   ],
   "source": [
    "def fib2(n):\n",
    "    count = 0\n",
    "    if n == 1 or n == 0:\n",
    "        count = 1\n",
    "    else:\n",
    "        count = fib2(n-1) + fib2(n-2)\n",
    "    return count\n",
    "\n",
    "start = time.time()\n",
    "[fib2(n) for n in range(20)]\n",
    "end = time.time()\n",
    "print('cost:{}'.format(end-start))"
   ]
  },
  {
   "cell_type": "code",
   "execution_count": 22,
   "metadata": {
    "scrolled": true
   },
   "outputs": [
    {
     "name": "stdout",
     "output_type": "stream",
     "text": [
      "cost:0.0\n",
      "[1, 1, 2, 3, 5, 8, 13, 21, 34, 55, 89, 144, 233, 377, 610, 987, 1597, 2584, 4181, 6765]\n"
     ]
    }
   ],
   "source": [
    "def fib3(n, cache=None):\n",
    "    if cache is None:\n",
    "        cache = {}\n",
    "    if n in cache:\n",
    "        return cache[n]\n",
    "    if n == 1 or n == 0:\n",
    "        return 1\n",
    "    else:\n",
    "        cache[n] = fib3(n-1, cache) + fib3(n-2, cache)\n",
    "    return cache[n]\n",
    "        \n",
    "start = time.time()\n",
    "[fib3(n) for n in range(20)]\n",
    "end = time.time()\n",
    "print('cost:{}'.format(end-start))\n",
    "print([fib3(n) for n in range(20)])"
   ]
  },
  {
   "cell_type": "code",
   "execution_count": 4,
   "metadata": {},
   "outputs": [],
   "source": [
    "#汉诺塔\n",
    "def hanoon(n, start, temp, end):\n",
    "    if n == 1:\n",
    "        print(start+'->'+end)\n",
    "    else:\n",
    "        hanoon(n-1,start, end, temp)\n",
    "        hanoon(1, start, temp, end)\n",
    "        hanoon(n-1, temp, start, end)\n",
    "    #移动 (n-1) 个从 A->B 起点是 A 终点是 B\n",
    "    #移动最底下从 A->C 起点是 A 终点是 C\n",
    "    #移动 (n-1) 个从 B->C 起点是 B 终点是 C\n"
   ]
  },
  {
   "cell_type": "code",
   "execution_count": 5,
   "metadata": {},
   "outputs": [
    {
     "data": {
      "text/plain": [
       "{'a': 1}"
      ]
     },
     "execution_count": 5,
     "metadata": {},
     "output_type": "execute_result"
    }
   ],
   "source": []
  }
 ],
 "metadata": {
  "kernelspec": {
   "display_name": "Python 3",
   "language": "python",
   "name": "python3"
  },
  "language_info": {
   "codemirror_mode": {
    "name": "ipython",
    "version": 3
   },
   "file_extension": ".py",
   "mimetype": "text/x-python",
   "name": "python",
   "nbconvert_exporter": "python",
   "pygments_lexer": "ipython3",
   "version": "3.6.6"
  }
 },
 "nbformat": 4,
 "nbformat_minor": 2
}
