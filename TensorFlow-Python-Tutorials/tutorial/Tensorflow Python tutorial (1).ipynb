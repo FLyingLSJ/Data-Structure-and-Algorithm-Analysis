{
 "cells": [
  {
   "cell_type": "markdown",
   "metadata": {},
   "source": [
    "### 深度学习简介介绍"
   ]
  },
  {
   "cell_type": "markdown",
   "metadata": {},
   "source": [
    "机器学习的定义：“如果一个程序可以在任务 T 上，随着经验 E 的增加，效果 P 也可以随之增加，则称这个程序可以从经验中学习”\n",
    "\n",
    "人工智能、机器学习、深度学习的关系：\n",
    "人工智能是一类很广泛的问题，而机器学习是实现人工智能的一种手段，深度学习是机器学习的一个分支。\n",
    "![](https://ws1.sinaimg.cn/large/acbcfa39gy1g0porld4jmj20an07idhc.jpg)\n",
    "\n",
    "深度学习的历史：\n",
    "- 1943 年提出 McCulloch-Pitts Neuron 结构\n",
    "- 1948 提出感知机模型， 1969 年证明感知机模型只能解决线性可分的问题，第一次低潮。\n",
    "- 20 世纪 80 年代，提出 BP 算法。\n",
    "- 1998 年支持向量机（传统机器学习算法）提出，由于数据量和计算机性能缘故，传统机器学习算法超越深度学习。第二次低潮。\n",
    "- 2010 年计算机性能大幅度提升，神经网络得到广泛发展。\n",
    "制约神经网络算法发展的原因：数据量、计算机性能\n",
    "\n",
    "一些关键算法的历史：\n",
    "-  David Everett Rumelhart 教授、 Geo岱ey Everest Hinton 教授和 Ronald J. Williams 教授于 1986 年在《自然》杂志上发表的 Learning Representations by Back-propαgating errors 文章中首次提出了**反向传播的算法（ back propagation ）** ，此算法大幅降低了 训练神经网络所需要的时间。\n",
    "-  Sepp Hochreiter 教授和 Jtirgen Schmidhuber 教授于 1991 年提出 的**LSTM 模型（ long short-term memory )** 可以有效地对较长的序列进行建模，比如一句话或者一段文章。直到今天， LSTM 都是解决很多自然语言 处理、机器翻译、语音识别、时序预测等问题最有效的方法。\n",
    "\n",
    "深度学习的运用领域：\n",
    "- 计算机视觉（最早）\n",
    "- 语音识别\n",
    "- 自然语言处理\n",
    "- 人机博弈"
   ]
  },
  {
   "cell_type": "markdown",
   "metadata": {},
   "source": [
    "### 安装 Tensorflow"
   ]
  },
  {
   "cell_type": "code",
   "execution_count": 2,
   "metadata": {
    "ExecuteTime": {
     "end_time": "2019-03-03T09:21:51.853210Z",
     "start_time": "2019-03-03T09:21:51.692302Z"
    }
   },
   "outputs": [
    {
     "data": {
      "text/plain": [
       "array([3., 5.], dtype=float32)"
      ]
     },
     "execution_count": 2,
     "metadata": {},
     "output_type": "execute_result"
    }
   ],
   "source": [
    "import tensorflow as tf\n",
    "a = tf.constant(value=[1.0, 2.0], name='a')\n",
    "b = tf.constant(value=[2.0, 3.0], name='b')\n",
    "result = a + b\n",
    "sess = tf.Session()\n",
    "sess.run(result)\n"
   ]
  },
  {
   "cell_type": "markdown",
   "metadata": {},
   "source": [
    "### TensorFlow 入门"
   ]
  },
  {
   "cell_type": "code",
   "execution_count": 3,
   "metadata": {
    "ExecuteTime": {
     "end_time": "2019-03-03T09:59:25.880899Z",
     "start_time": "2019-03-03T09:59:25.800945Z"
    }
   },
   "outputs": [],
   "source": [
    "import cv2\n",
    "\n",
    "img = cv2"
   ]
  },
  {
   "cell_type": "code",
   "execution_count": null,
   "metadata": {},
   "outputs": [],
   "source": []
  }
 ],
 "metadata": {
  "hide_input": false,
  "kernelspec": {
   "display_name": "Python 3",
   "language": "python",
   "name": "python3"
  },
  "language_info": {
   "codemirror_mode": {
    "name": "ipython",
    "version": 3
   },
   "file_extension": ".py",
   "mimetype": "text/x-python",
   "name": "python",
   "nbconvert_exporter": "python",
   "pygments_lexer": "ipython3",
   "version": "3.6.6"
  },
  "toc": {
   "base_numbering": 1,
   "nav_menu": {},
   "number_sections": true,
   "sideBar": true,
   "skip_h1_title": false,
   "title_cell": "Table of Contents",
   "title_sidebar": "Contents",
   "toc_cell": false,
   "toc_position": {},
   "toc_section_display": true,
   "toc_window_display": true
  },
  "varInspector": {
   "cols": {
    "lenName": 16,
    "lenType": 16,
    "lenVar": 40
   },
   "kernels_config": {
    "python": {
     "delete_cmd_postfix": "",
     "delete_cmd_prefix": "del ",
     "library": "var_list.py",
     "varRefreshCmd": "print(var_dic_list())"
    },
    "r": {
     "delete_cmd_postfix": ") ",
     "delete_cmd_prefix": "rm(",
     "library": "var_list.r",
     "varRefreshCmd": "cat(var_dic_list()) "
    }
   },
   "types_to_exclude": [
    "module",
    "function",
    "builtin_function_or_method",
    "instance",
    "_Feature"
   ],
   "window_display": false
  }
 },
 "nbformat": 4,
 "nbformat_minor": 2
}
